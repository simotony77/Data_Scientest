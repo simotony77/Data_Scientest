{
 "cells": [
  {
   "cell_type": "code",
   "execution_count": 160,
   "id": "6ae08aa1",
   "metadata": {},
   "outputs": [],
   "source": [
    "import pandas as pd\n",
    "import numpy as np\n",
    "import seaborn as sns\n",
    "import matplotlib.pyplot as plt "
   ]
  },
  {
   "cell_type": "code",
   "execution_count": 161,
   "id": "52e8fb10",
   "metadata": {},
   "outputs": [],
   "source": [
    "# Reading the file NBA_Shot_Locations"
   ]
  },
  {
   "cell_type": "code",
   "execution_count": 162,
   "id": "225ffc9f",
   "metadata": {},
   "outputs": [],
   "source": [
    "data = pd.read_csv(r'C:\\Users\\simot\\Documents\\GitHub\\DataScientest\\NBA_Shot_Locations_1997_2020.csv')"
   ]
  },
  {
   "cell_type": "code",
   "execution_count": 163,
   "id": "5592b02a",
   "metadata": {},
   "outputs": [
    {
     "name": "stdout",
     "output_type": "stream",
     "text": [
      "<class 'pandas.core.frame.DataFrame'>\n",
      "RangeIndex: 4729512 entries, 0 to 4729511\n",
      "Data columns (total 22 columns):\n",
      " #   Column             Dtype \n",
      "---  ------             ----- \n",
      " 0   Game ID            int64 \n",
      " 1   Game Event ID      int64 \n",
      " 2   Player ID          int64 \n",
      " 3   Player Name        object\n",
      " 4   Team ID            int64 \n",
      " 5   Team Name          object\n",
      " 6   Period             int64 \n",
      " 7   Minutes Remaining  int64 \n",
      " 8   Seconds Remaining  int64 \n",
      " 9   Action Type        object\n",
      " 10  Shot Type          object\n",
      " 11  Shot Zone Basic    object\n",
      " 12  Shot Zone Area     object\n",
      " 13  Shot Zone Range    object\n",
      " 14  Shot Distance      int64 \n",
      " 15  X Location         int64 \n",
      " 16  Y Location         int64 \n",
      " 17  Shot Made Flag     int64 \n",
      " 18  Game Date          int64 \n",
      " 19  Home Team          object\n",
      " 20  Away Team          object\n",
      " 21  Season Type        object\n",
      "dtypes: int64(12), object(10)\n",
      "memory usage: 793.8+ MB\n"
     ]
    }
   ],
   "source": [
    "data.info()"
   ]
  },
  {
   "cell_type": "code",
   "execution_count": 164,
   "id": "87d6906f",
   "metadata": {},
   "outputs": [],
   "source": [
    "# We place in a list the 20 players considered"
   ]
  },
  {
   "cell_type": "code",
   "execution_count": 165,
   "id": "caf365ee",
   "metadata": {},
   "outputs": [],
   "source": [
    "PlayerList = ['Tim Duncan', 'Kobe Bryant', 'Allen Iverson', 'Steve Nash', 'Ray Allen', 'Paul Pierce', 'Pau Gasol', 'Tony Parker',\n",
    "              'Manu Ginobili', 'Dwyane Wade', 'LeBron James', 'Chris Paul', 'Kevin Durant', 'Russell Westbrook', 'Stephen Curry', \n",
    "              'James Harden', 'Kawhi Leonard', 'Damian Lillard', 'Anthony Davis', 'Giannis Antetokounmpo']\n"
   ]
  },
  {
   "cell_type": "code",
   "execution_count": 166,
   "id": "c6e7a893",
   "metadata": {},
   "outputs": [],
   "source": [
    "# We restraint our data to the 20 players"
   ]
  },
  {
   "cell_type": "code",
   "execution_count": 167,
   "id": "7413a15e",
   "metadata": {},
   "outputs": [],
   "source": [
    "data = data[ data['Player Name'].isin(PlayerList) ]"
   ]
  },
  {
   "cell_type": "code",
   "execution_count": 168,
   "id": "2d5090a9",
   "metadata": {},
   "outputs": [
    {
     "name": "stdout",
     "output_type": "stream",
     "text": [
      "<class 'pandas.core.frame.DataFrame'>\n",
      "Int64Index: 350867 entries, 17033 to 4727908\n",
      "Data columns (total 22 columns):\n",
      " #   Column             Non-Null Count   Dtype \n",
      "---  ------             --------------   ----- \n",
      " 0   Game ID            350867 non-null  int64 \n",
      " 1   Game Event ID      350867 non-null  int64 \n",
      " 2   Player ID          350867 non-null  int64 \n",
      " 3   Player Name        350867 non-null  object\n",
      " 4   Team ID            350867 non-null  int64 \n",
      " 5   Team Name          350867 non-null  object\n",
      " 6   Period             350867 non-null  int64 \n",
      " 7   Minutes Remaining  350867 non-null  int64 \n",
      " 8   Seconds Remaining  350867 non-null  int64 \n",
      " 9   Action Type        350867 non-null  object\n",
      " 10  Shot Type          350867 non-null  object\n",
      " 11  Shot Zone Basic    350867 non-null  object\n",
      " 12  Shot Zone Area     350867 non-null  object\n",
      " 13  Shot Zone Range    350867 non-null  object\n",
      " 14  Shot Distance      350867 non-null  int64 \n",
      " 15  X Location         350867 non-null  int64 \n",
      " 16  Y Location         350867 non-null  int64 \n",
      " 17  Shot Made Flag     350867 non-null  int64 \n",
      " 18  Game Date          350867 non-null  int64 \n",
      " 19  Home Team          350867 non-null  object\n",
      " 20  Away Team          350867 non-null  object\n",
      " 21  Season Type        350867 non-null  object\n",
      "dtypes: int64(12), object(10)\n",
      "memory usage: 61.6+ MB\n"
     ]
    }
   ],
   "source": [
    "data.info()"
   ]
  },
  {
   "cell_type": "code",
   "execution_count": 169,
   "id": "b573830c",
   "metadata": {},
   "outputs": [
    {
     "data": {
      "text/html": [
       "<div>\n",
       "<style scoped>\n",
       "    .dataframe tbody tr th:only-of-type {\n",
       "        vertical-align: middle;\n",
       "    }\n",
       "\n",
       "    .dataframe tbody tr th {\n",
       "        vertical-align: top;\n",
       "    }\n",
       "\n",
       "    .dataframe thead th {\n",
       "        text-align: right;\n",
       "    }\n",
       "</style>\n",
       "<table border=\"1\" class=\"dataframe\">\n",
       "  <thead>\n",
       "    <tr style=\"text-align: right;\">\n",
       "      <th></th>\n",
       "      <th>Game ID</th>\n",
       "      <th>Game Event ID</th>\n",
       "      <th>Player ID</th>\n",
       "      <th>Player Name</th>\n",
       "      <th>Team ID</th>\n",
       "      <th>Team Name</th>\n",
       "      <th>Period</th>\n",
       "      <th>Minutes Remaining</th>\n",
       "      <th>Seconds Remaining</th>\n",
       "      <th>Action Type</th>\n",
       "      <th>...</th>\n",
       "      <th>Shot Zone Area</th>\n",
       "      <th>Shot Zone Range</th>\n",
       "      <th>Shot Distance</th>\n",
       "      <th>X Location</th>\n",
       "      <th>Y Location</th>\n",
       "      <th>Shot Made Flag</th>\n",
       "      <th>Game Date</th>\n",
       "      <th>Home Team</th>\n",
       "      <th>Away Team</th>\n",
       "      <th>Season Type</th>\n",
       "    </tr>\n",
       "  </thead>\n",
       "  <tbody>\n",
       "    <tr>\n",
       "      <th>17033</th>\n",
       "      <td>29700010</td>\n",
       "      <td>31</td>\n",
       "      <td>1495</td>\n",
       "      <td>Tim Duncan</td>\n",
       "      <td>1610612759</td>\n",
       "      <td>San Antonio Spurs</td>\n",
       "      <td>1</td>\n",
       "      <td>8</td>\n",
       "      <td>47</td>\n",
       "      <td>Jump Shot</td>\n",
       "      <td>...</td>\n",
       "      <td>Right Side(R)</td>\n",
       "      <td>16-24 ft.</td>\n",
       "      <td>16</td>\n",
       "      <td>154</td>\n",
       "      <td>53</td>\n",
       "      <td>0</td>\n",
       "      <td>19971031</td>\n",
       "      <td>DEN</td>\n",
       "      <td>SAS</td>\n",
       "      <td>Regular Season</td>\n",
       "    </tr>\n",
       "    <tr>\n",
       "      <th>17034</th>\n",
       "      <td>29700010</td>\n",
       "      <td>76</td>\n",
       "      <td>1495</td>\n",
       "      <td>Tim Duncan</td>\n",
       "      <td>1610612759</td>\n",
       "      <td>San Antonio Spurs</td>\n",
       "      <td>1</td>\n",
       "      <td>5</td>\n",
       "      <td>11</td>\n",
       "      <td>Layup Shot</td>\n",
       "      <td>...</td>\n",
       "      <td>Center(C)</td>\n",
       "      <td>Less Than 8 ft.</td>\n",
       "      <td>0</td>\n",
       "      <td>0</td>\n",
       "      <td>0</td>\n",
       "      <td>1</td>\n",
       "      <td>19971031</td>\n",
       "      <td>DEN</td>\n",
       "      <td>SAS</td>\n",
       "      <td>Regular Season</td>\n",
       "    </tr>\n",
       "    <tr>\n",
       "      <th>17035</th>\n",
       "      <td>29700010</td>\n",
       "      <td>87</td>\n",
       "      <td>1495</td>\n",
       "      <td>Tim Duncan</td>\n",
       "      <td>1610612759</td>\n",
       "      <td>San Antonio Spurs</td>\n",
       "      <td>1</td>\n",
       "      <td>4</td>\n",
       "      <td>4</td>\n",
       "      <td>Driving Layup Shot</td>\n",
       "      <td>...</td>\n",
       "      <td>Center(C)</td>\n",
       "      <td>Less Than 8 ft.</td>\n",
       "      <td>0</td>\n",
       "      <td>0</td>\n",
       "      <td>0</td>\n",
       "      <td>1</td>\n",
       "      <td>19971031</td>\n",
       "      <td>DEN</td>\n",
       "      <td>SAS</td>\n",
       "      <td>Regular Season</td>\n",
       "    </tr>\n",
       "    <tr>\n",
       "      <th>17036</th>\n",
       "      <td>29700010</td>\n",
       "      <td>226</td>\n",
       "      <td>1495</td>\n",
       "      <td>Tim Duncan</td>\n",
       "      <td>1610612759</td>\n",
       "      <td>San Antonio Spurs</td>\n",
       "      <td>2</td>\n",
       "      <td>3</td>\n",
       "      <td>35</td>\n",
       "      <td>Jump Shot</td>\n",
       "      <td>...</td>\n",
       "      <td>Left Side(L)</td>\n",
       "      <td>8-16 ft.</td>\n",
       "      <td>11</td>\n",
       "      <td>-115</td>\n",
       "      <td>16</td>\n",
       "      <td>1</td>\n",
       "      <td>19971031</td>\n",
       "      <td>DEN</td>\n",
       "      <td>SAS</td>\n",
       "      <td>Regular Season</td>\n",
       "    </tr>\n",
       "    <tr>\n",
       "      <th>17037</th>\n",
       "      <td>29700010</td>\n",
       "      <td>287</td>\n",
       "      <td>1495</td>\n",
       "      <td>Tim Duncan</td>\n",
       "      <td>1610612759</td>\n",
       "      <td>San Antonio Spurs</td>\n",
       "      <td>3</td>\n",
       "      <td>10</td>\n",
       "      <td>59</td>\n",
       "      <td>Jump Shot</td>\n",
       "      <td>...</td>\n",
       "      <td>Center(C)</td>\n",
       "      <td>Less Than 8 ft.</td>\n",
       "      <td>7</td>\n",
       "      <td>68</td>\n",
       "      <td>23</td>\n",
       "      <td>1</td>\n",
       "      <td>19971031</td>\n",
       "      <td>DEN</td>\n",
       "      <td>SAS</td>\n",
       "      <td>Regular Season</td>\n",
       "    </tr>\n",
       "    <tr>\n",
       "      <th>17038</th>\n",
       "      <td>29700010</td>\n",
       "      <td>333</td>\n",
       "      <td>1495</td>\n",
       "      <td>Tim Duncan</td>\n",
       "      <td>1610612759</td>\n",
       "      <td>San Antonio Spurs</td>\n",
       "      <td>3</td>\n",
       "      <td>5</td>\n",
       "      <td>45</td>\n",
       "      <td>Running Jump Shot</td>\n",
       "      <td>...</td>\n",
       "      <td>Center(C)</td>\n",
       "      <td>Less Than 8 ft.</td>\n",
       "      <td>5</td>\n",
       "      <td>23</td>\n",
       "      <td>46</td>\n",
       "      <td>1</td>\n",
       "      <td>19971031</td>\n",
       "      <td>DEN</td>\n",
       "      <td>SAS</td>\n",
       "      <td>Regular Season</td>\n",
       "    </tr>\n",
       "    <tr>\n",
       "      <th>17039</th>\n",
       "      <td>29700010</td>\n",
       "      <td>458</td>\n",
       "      <td>1495</td>\n",
       "      <td>Tim Duncan</td>\n",
       "      <td>1610612759</td>\n",
       "      <td>San Antonio Spurs</td>\n",
       "      <td>4</td>\n",
       "      <td>5</td>\n",
       "      <td>54</td>\n",
       "      <td>Jump Shot</td>\n",
       "      <td>...</td>\n",
       "      <td>Center(C)</td>\n",
       "      <td>8-16 ft.</td>\n",
       "      <td>9</td>\n",
       "      <td>18</td>\n",
       "      <td>98</td>\n",
       "      <td>1</td>\n",
       "      <td>19971031</td>\n",
       "      <td>DEN</td>\n",
       "      <td>SAS</td>\n",
       "      <td>Regular Season</td>\n",
       "    </tr>\n",
       "    <tr>\n",
       "      <th>17040</th>\n",
       "      <td>29700010</td>\n",
       "      <td>465</td>\n",
       "      <td>1495</td>\n",
       "      <td>Tim Duncan</td>\n",
       "      <td>1610612759</td>\n",
       "      <td>San Antonio Spurs</td>\n",
       "      <td>4</td>\n",
       "      <td>4</td>\n",
       "      <td>40</td>\n",
       "      <td>Layup Shot</td>\n",
       "      <td>...</td>\n",
       "      <td>Center(C)</td>\n",
       "      <td>Less Than 8 ft.</td>\n",
       "      <td>0</td>\n",
       "      <td>0</td>\n",
       "      <td>0</td>\n",
       "      <td>0</td>\n",
       "      <td>19971031</td>\n",
       "      <td>DEN</td>\n",
       "      <td>SAS</td>\n",
       "      <td>Regular Season</td>\n",
       "    </tr>\n",
       "    <tr>\n",
       "      <th>17041</th>\n",
       "      <td>29700010</td>\n",
       "      <td>496</td>\n",
       "      <td>1495</td>\n",
       "      <td>Tim Duncan</td>\n",
       "      <td>1610612759</td>\n",
       "      <td>San Antonio Spurs</td>\n",
       "      <td>4</td>\n",
       "      <td>2</td>\n",
       "      <td>18</td>\n",
       "      <td>Jump Shot</td>\n",
       "      <td>...</td>\n",
       "      <td>Left Side(L)</td>\n",
       "      <td>8-16 ft.</td>\n",
       "      <td>13</td>\n",
       "      <td>-139</td>\n",
       "      <td>3</td>\n",
       "      <td>0</td>\n",
       "      <td>19971031</td>\n",
       "      <td>DEN</td>\n",
       "      <td>SAS</td>\n",
       "      <td>Regular Season</td>\n",
       "    </tr>\n",
       "    <tr>\n",
       "      <th>17042</th>\n",
       "      <td>29700021</td>\n",
       "      <td>121</td>\n",
       "      <td>1495</td>\n",
       "      <td>Tim Duncan</td>\n",
       "      <td>1610612759</td>\n",
       "      <td>San Antonio Spurs</td>\n",
       "      <td>1</td>\n",
       "      <td>1</td>\n",
       "      <td>32</td>\n",
       "      <td>Jump Shot</td>\n",
       "      <td>...</td>\n",
       "      <td>Center(C)</td>\n",
       "      <td>Less Than 8 ft.</td>\n",
       "      <td>6</td>\n",
       "      <td>-57</td>\n",
       "      <td>38</td>\n",
       "      <td>1</td>\n",
       "      <td>19971101</td>\n",
       "      <td>SAS</td>\n",
       "      <td>CLE</td>\n",
       "      <td>Regular Season</td>\n",
       "    </tr>\n",
       "  </tbody>\n",
       "</table>\n",
       "<p>10 rows × 22 columns</p>\n",
       "</div>"
      ],
      "text/plain": [
       "        Game ID  Game Event ID  Player ID Player Name     Team ID  \\\n",
       "17033  29700010             31       1495  Tim Duncan  1610612759   \n",
       "17034  29700010             76       1495  Tim Duncan  1610612759   \n",
       "17035  29700010             87       1495  Tim Duncan  1610612759   \n",
       "17036  29700010            226       1495  Tim Duncan  1610612759   \n",
       "17037  29700010            287       1495  Tim Duncan  1610612759   \n",
       "17038  29700010            333       1495  Tim Duncan  1610612759   \n",
       "17039  29700010            458       1495  Tim Duncan  1610612759   \n",
       "17040  29700010            465       1495  Tim Duncan  1610612759   \n",
       "17041  29700010            496       1495  Tim Duncan  1610612759   \n",
       "17042  29700021            121       1495  Tim Duncan  1610612759   \n",
       "\n",
       "               Team Name  Period  Minutes Remaining  Seconds Remaining  \\\n",
       "17033  San Antonio Spurs       1                  8                 47   \n",
       "17034  San Antonio Spurs       1                  5                 11   \n",
       "17035  San Antonio Spurs       1                  4                  4   \n",
       "17036  San Antonio Spurs       2                  3                 35   \n",
       "17037  San Antonio Spurs       3                 10                 59   \n",
       "17038  San Antonio Spurs       3                  5                 45   \n",
       "17039  San Antonio Spurs       4                  5                 54   \n",
       "17040  San Antonio Spurs       4                  4                 40   \n",
       "17041  San Antonio Spurs       4                  2                 18   \n",
       "17042  San Antonio Spurs       1                  1                 32   \n",
       "\n",
       "              Action Type  ... Shot Zone Area  Shot Zone Range Shot Distance  \\\n",
       "17033           Jump Shot  ...  Right Side(R)        16-24 ft.            16   \n",
       "17034          Layup Shot  ...      Center(C)  Less Than 8 ft.             0   \n",
       "17035  Driving Layup Shot  ...      Center(C)  Less Than 8 ft.             0   \n",
       "17036           Jump Shot  ...   Left Side(L)         8-16 ft.            11   \n",
       "17037           Jump Shot  ...      Center(C)  Less Than 8 ft.             7   \n",
       "17038   Running Jump Shot  ...      Center(C)  Less Than 8 ft.             5   \n",
       "17039           Jump Shot  ...      Center(C)         8-16 ft.             9   \n",
       "17040          Layup Shot  ...      Center(C)  Less Than 8 ft.             0   \n",
       "17041           Jump Shot  ...   Left Side(L)         8-16 ft.            13   \n",
       "17042           Jump Shot  ...      Center(C)  Less Than 8 ft.             6   \n",
       "\n",
       "      X Location  Y Location  Shot Made Flag  Game Date  Home Team  Away Team  \\\n",
       "17033        154          53               0   19971031        DEN        SAS   \n",
       "17034          0           0               1   19971031        DEN        SAS   \n",
       "17035          0           0               1   19971031        DEN        SAS   \n",
       "17036       -115          16               1   19971031        DEN        SAS   \n",
       "17037         68          23               1   19971031        DEN        SAS   \n",
       "17038         23          46               1   19971031        DEN        SAS   \n",
       "17039         18          98               1   19971031        DEN        SAS   \n",
       "17040          0           0               0   19971031        DEN        SAS   \n",
       "17041       -139           3               0   19971031        DEN        SAS   \n",
       "17042        -57          38               1   19971101        SAS        CLE   \n",
       "\n",
       "          Season Type  \n",
       "17033  Regular Season  \n",
       "17034  Regular Season  \n",
       "17035  Regular Season  \n",
       "17036  Regular Season  \n",
       "17037  Regular Season  \n",
       "17038  Regular Season  \n",
       "17039  Regular Season  \n",
       "17040  Regular Season  \n",
       "17041  Regular Season  \n",
       "17042  Regular Season  \n",
       "\n",
       "[10 rows x 22 columns]"
      ]
     },
     "execution_count": 169,
     "metadata": {},
     "output_type": "execute_result"
    }
   ],
   "source": [
    "data.head(10)"
   ]
  },
  {
   "cell_type": "code",
   "execution_count": 170,
   "id": "9f0f482e",
   "metadata": {},
   "outputs": [],
   "source": [
    "# We exclude certain columns not needed like Game ID, Game Event ID, ect..."
   ]
  },
  {
   "cell_type": "code",
   "execution_count": 171,
   "id": "6b8bd595",
   "metadata": {},
   "outputs": [],
   "source": [
    "data.drop(['Game ID', 'Game Event ID', 'Player ID', 'Team ID'], axis = 1, inplace = True)"
   ]
  },
  {
   "cell_type": "code",
   "execution_count": 172,
   "id": "ee446e21",
   "metadata": {},
   "outputs": [],
   "source": [
    "#  We read the data file about the players specifically"
   ]
  },
  {
   "cell_type": "code",
   "execution_count": 173,
   "id": "6c6566be",
   "metadata": {},
   "outputs": [],
   "source": [
    "player_data = pd.read_csv(r'C:\\Users\\simot\\Documents\\GitHub\\DataScientest\\player_data.csv')"
   ]
  },
  {
   "cell_type": "code",
   "execution_count": 174,
   "id": "ffaeec28",
   "metadata": {},
   "outputs": [
    {
     "name": "stdout",
     "output_type": "stream",
     "text": [
      "<class 'pandas.core.frame.DataFrame'>\n",
      "RangeIndex: 4550 entries, 0 to 4549\n",
      "Data columns (total 8 columns):\n",
      " #   Column      Non-Null Count  Dtype  \n",
      "---  ------      --------------  -----  \n",
      " 0   name        4550 non-null   object \n",
      " 1   year_start  4550 non-null   int64  \n",
      " 2   year_end    4550 non-null   int64  \n",
      " 3   position    4549 non-null   object \n",
      " 4   height      4549 non-null   object \n",
      " 5   weight      4544 non-null   float64\n",
      " 6   birth_date  4519 non-null   object \n",
      " 7   college     4248 non-null   object \n",
      "dtypes: float64(1), int64(2), object(5)\n",
      "memory usage: 284.5+ KB\n"
     ]
    }
   ],
   "source": [
    "player_data.info()"
   ]
  },
  {
   "cell_type": "code",
   "execution_count": 175,
   "id": "69126dc9",
   "metadata": {},
   "outputs": [],
   "source": [
    "# We only consider data about our 20 players"
   ]
  },
  {
   "cell_type": "code",
   "execution_count": 176,
   "id": "c44b346a",
   "metadata": {},
   "outputs": [],
   "source": [
    "player_data = player_data[ player_data['name'].isin(PlayerList) ]"
   ]
  },
  {
   "cell_type": "code",
   "execution_count": 177,
   "id": "0833b118",
   "metadata": {},
   "outputs": [
    {
     "name": "stdout",
     "output_type": "stream",
     "text": [
      "<class 'pandas.core.frame.DataFrame'>\n",
      "Int64Index: 20 entries, 58 to 4290\n",
      "Data columns (total 8 columns):\n",
      " #   Column      Non-Null Count  Dtype  \n",
      "---  ------      --------------  -----  \n",
      " 0   name        20 non-null     object \n",
      " 1   year_start  20 non-null     int64  \n",
      " 2   year_end    20 non-null     int64  \n",
      " 3   position    20 non-null     object \n",
      " 4   height      20 non-null     object \n",
      " 5   weight      20 non-null     float64\n",
      " 6   birth_date  20 non-null     object \n",
      " 7   college     14 non-null     object \n",
      "dtypes: float64(1), int64(2), object(5)\n",
      "memory usage: 1.4+ KB\n"
     ]
    }
   ],
   "source": [
    "player_data.info()"
   ]
  },
  {
   "cell_type": "code",
   "execution_count": 178,
   "id": "3244c540",
   "metadata": {},
   "outputs": [
    {
     "data": {
      "text/html": [
       "<div>\n",
       "<style scoped>\n",
       "    .dataframe tbody tr th:only-of-type {\n",
       "        vertical-align: middle;\n",
       "    }\n",
       "\n",
       "    .dataframe tbody tr th {\n",
       "        vertical-align: top;\n",
       "    }\n",
       "\n",
       "    .dataframe thead th {\n",
       "        text-align: right;\n",
       "    }\n",
       "</style>\n",
       "<table border=\"1\" class=\"dataframe\">\n",
       "  <thead>\n",
       "    <tr style=\"text-align: right;\">\n",
       "      <th></th>\n",
       "      <th>name</th>\n",
       "      <th>year_start</th>\n",
       "      <th>year_end</th>\n",
       "      <th>position</th>\n",
       "      <th>height</th>\n",
       "      <th>weight</th>\n",
       "      <th>birth_date</th>\n",
       "      <th>college</th>\n",
       "    </tr>\n",
       "  </thead>\n",
       "  <tbody>\n",
       "    <tr>\n",
       "      <th>58</th>\n",
       "      <td>Ray Allen</td>\n",
       "      <td>1997</td>\n",
       "      <td>2014</td>\n",
       "      <td>G</td>\n",
       "      <td>6-5</td>\n",
       "      <td>205.0</td>\n",
       "      <td>July 20, 1975</td>\n",
       "      <td>University of Connecticut</td>\n",
       "    </tr>\n",
       "    <tr>\n",
       "      <th>105</th>\n",
       "      <td>Giannis Antetokounmpo</td>\n",
       "      <td>2014</td>\n",
       "      <td>2018</td>\n",
       "      <td>F-G</td>\n",
       "      <td>6-11</td>\n",
       "      <td>222.0</td>\n",
       "      <td>December 6, 1994</td>\n",
       "      <td>NaN</td>\n",
       "    </tr>\n",
       "    <tr>\n",
       "      <th>528</th>\n",
       "      <td>Kobe Bryant</td>\n",
       "      <td>1997</td>\n",
       "      <td>2016</td>\n",
       "      <td>G-F</td>\n",
       "      <td>6-6</td>\n",
       "      <td>212.0</td>\n",
       "      <td>August 23, 1978</td>\n",
       "      <td>NaN</td>\n",
       "    </tr>\n",
       "    <tr>\n",
       "      <th>868</th>\n",
       "      <td>Stephen Curry</td>\n",
       "      <td>2010</td>\n",
       "      <td>2018</td>\n",
       "      <td>G</td>\n",
       "      <td>6-3</td>\n",
       "      <td>190.0</td>\n",
       "      <td>March 14, 1988</td>\n",
       "      <td>Davidson College</td>\n",
       "    </tr>\n",
       "    <tr>\n",
       "      <th>901</th>\n",
       "      <td>Anthony Davis</td>\n",
       "      <td>2013</td>\n",
       "      <td>2018</td>\n",
       "      <td>F-C</td>\n",
       "      <td>6-10</td>\n",
       "      <td>253.0</td>\n",
       "      <td>March 11, 1993</td>\n",
       "      <td>University of Kentucky</td>\n",
       "    </tr>\n",
       "    <tr>\n",
       "      <th>1078</th>\n",
       "      <td>Tim Duncan</td>\n",
       "      <td>1998</td>\n",
       "      <td>2016</td>\n",
       "      <td>F-C</td>\n",
       "      <td>6-11</td>\n",
       "      <td>250.0</td>\n",
       "      <td>April 25, 1976</td>\n",
       "      <td>Wake Forest University</td>\n",
       "    </tr>\n",
       "    <tr>\n",
       "      <th>1085</th>\n",
       "      <td>Kevin Durant</td>\n",
       "      <td>2008</td>\n",
       "      <td>2018</td>\n",
       "      <td>F-G</td>\n",
       "      <td>6-9</td>\n",
       "      <td>240.0</td>\n",
       "      <td>September 29, 1988</td>\n",
       "      <td>University of Texas at Austin</td>\n",
       "    </tr>\n",
       "    <tr>\n",
       "      <th>1383</th>\n",
       "      <td>Pau Gasol</td>\n",
       "      <td>2002</td>\n",
       "      <td>2018</td>\n",
       "      <td>F-C</td>\n",
       "      <td>7-0</td>\n",
       "      <td>250.0</td>\n",
       "      <td>July 6, 1980</td>\n",
       "      <td>NaN</td>\n",
       "    </tr>\n",
       "    <tr>\n",
       "      <th>1425</th>\n",
       "      <td>Manu Ginobili</td>\n",
       "      <td>2003</td>\n",
       "      <td>2018</td>\n",
       "      <td>G</td>\n",
       "      <td>6-6</td>\n",
       "      <td>205.0</td>\n",
       "      <td>July 28, 1977</td>\n",
       "      <td>NaN</td>\n",
       "    </tr>\n",
       "    <tr>\n",
       "      <th>1627</th>\n",
       "      <td>James Harden</td>\n",
       "      <td>2010</td>\n",
       "      <td>2018</td>\n",
       "      <td>G</td>\n",
       "      <td>6-5</td>\n",
       "      <td>220.0</td>\n",
       "      <td>August 26, 1989</td>\n",
       "      <td>Arizona State University</td>\n",
       "    </tr>\n",
       "    <tr>\n",
       "      <th>1904</th>\n",
       "      <td>Allen Iverson</td>\n",
       "      <td>1997</td>\n",
       "      <td>2010</td>\n",
       "      <td>G</td>\n",
       "      <td>6-0</td>\n",
       "      <td>165.0</td>\n",
       "      <td>June 7, 1975</td>\n",
       "      <td>Georgetown University</td>\n",
       "    </tr>\n",
       "    <tr>\n",
       "      <th>1952</th>\n",
       "      <td>LeBron James</td>\n",
       "      <td>2004</td>\n",
       "      <td>2018</td>\n",
       "      <td>F-G</td>\n",
       "      <td>6-8</td>\n",
       "      <td>250.0</td>\n",
       "      <td>December 30, 1984</td>\n",
       "      <td>NaN</td>\n",
       "    </tr>\n",
       "    <tr>\n",
       "      <th>2378</th>\n",
       "      <td>Kawhi Leonard</td>\n",
       "      <td>2012</td>\n",
       "      <td>2018</td>\n",
       "      <td>F</td>\n",
       "      <td>6-7</td>\n",
       "      <td>230.0</td>\n",
       "      <td>June 29, 1991</td>\n",
       "      <td>San Diego State University</td>\n",
       "    </tr>\n",
       "    <tr>\n",
       "      <th>2407</th>\n",
       "      <td>Damian Lillard</td>\n",
       "      <td>2013</td>\n",
       "      <td>2018</td>\n",
       "      <td>G</td>\n",
       "      <td>6-3</td>\n",
       "      <td>195.0</td>\n",
       "      <td>July 15, 1990</td>\n",
       "      <td>Weber State University</td>\n",
       "    </tr>\n",
       "    <tr>\n",
       "      <th>2915</th>\n",
       "      <td>Steve Nash</td>\n",
       "      <td>1997</td>\n",
       "      <td>2014</td>\n",
       "      <td>G</td>\n",
       "      <td>6-3</td>\n",
       "      <td>195.0</td>\n",
       "      <td>February 7, 1974</td>\n",
       "      <td>Santa Clara University</td>\n",
       "    </tr>\n",
       "    <tr>\n",
       "      <th>3107</th>\n",
       "      <td>Tony Parker</td>\n",
       "      <td>2002</td>\n",
       "      <td>2018</td>\n",
       "      <td>G</td>\n",
       "      <td>6-2</td>\n",
       "      <td>185.0</td>\n",
       "      <td>May 17, 1982</td>\n",
       "      <td>NaN</td>\n",
       "    </tr>\n",
       "    <tr>\n",
       "      <th>3131</th>\n",
       "      <td>Chris Paul</td>\n",
       "      <td>2006</td>\n",
       "      <td>2018</td>\n",
       "      <td>G</td>\n",
       "      <td>6-0</td>\n",
       "      <td>175.0</td>\n",
       "      <td>May 6, 1985</td>\n",
       "      <td>Wake Forest University</td>\n",
       "    </tr>\n",
       "    <tr>\n",
       "      <th>3201</th>\n",
       "      <td>Paul Pierce</td>\n",
       "      <td>1999</td>\n",
       "      <td>2017</td>\n",
       "      <td>F-G</td>\n",
       "      <td>6-7</td>\n",
       "      <td>235.0</td>\n",
       "      <td>October 13, 1977</td>\n",
       "      <td>University of Kansas</td>\n",
       "    </tr>\n",
       "    <tr>\n",
       "      <th>4167</th>\n",
       "      <td>Dwyane Wade</td>\n",
       "      <td>2004</td>\n",
       "      <td>2018</td>\n",
       "      <td>G</td>\n",
       "      <td>6-4</td>\n",
       "      <td>220.0</td>\n",
       "      <td>January 17, 1982</td>\n",
       "      <td>Marquette University</td>\n",
       "    </tr>\n",
       "    <tr>\n",
       "      <th>4290</th>\n",
       "      <td>Russell Westbrook</td>\n",
       "      <td>2009</td>\n",
       "      <td>2018</td>\n",
       "      <td>G</td>\n",
       "      <td>6-3</td>\n",
       "      <td>200.0</td>\n",
       "      <td>November 12, 1988</td>\n",
       "      <td>University of California, Los Angeles</td>\n",
       "    </tr>\n",
       "  </tbody>\n",
       "</table>\n",
       "</div>"
      ],
      "text/plain": [
       "                       name  year_start  year_end position height  weight  \\\n",
       "58                Ray Allen        1997      2014        G    6-5   205.0   \n",
       "105   Giannis Antetokounmpo        2014      2018      F-G   6-11   222.0   \n",
       "528             Kobe Bryant        1997      2016      G-F    6-6   212.0   \n",
       "868           Stephen Curry        2010      2018        G    6-3   190.0   \n",
       "901           Anthony Davis        2013      2018      F-C   6-10   253.0   \n",
       "1078             Tim Duncan        1998      2016      F-C   6-11   250.0   \n",
       "1085           Kevin Durant        2008      2018      F-G    6-9   240.0   \n",
       "1383              Pau Gasol        2002      2018      F-C    7-0   250.0   \n",
       "1425          Manu Ginobili        2003      2018        G    6-6   205.0   \n",
       "1627           James Harden        2010      2018        G    6-5   220.0   \n",
       "1904          Allen Iverson        1997      2010        G    6-0   165.0   \n",
       "1952           LeBron James        2004      2018      F-G    6-8   250.0   \n",
       "2378          Kawhi Leonard        2012      2018        F    6-7   230.0   \n",
       "2407         Damian Lillard        2013      2018        G    6-3   195.0   \n",
       "2915             Steve Nash        1997      2014        G    6-3   195.0   \n",
       "3107            Tony Parker        2002      2018        G    6-2   185.0   \n",
       "3131             Chris Paul        2006      2018        G    6-0   175.0   \n",
       "3201            Paul Pierce        1999      2017      F-G    6-7   235.0   \n",
       "4167            Dwyane Wade        2004      2018        G    6-4   220.0   \n",
       "4290      Russell Westbrook        2009      2018        G    6-3   200.0   \n",
       "\n",
       "              birth_date                                college  \n",
       "58         July 20, 1975              University of Connecticut  \n",
       "105     December 6, 1994                                    NaN  \n",
       "528      August 23, 1978                                    NaN  \n",
       "868       March 14, 1988                       Davidson College  \n",
       "901       March 11, 1993                 University of Kentucky  \n",
       "1078      April 25, 1976                 Wake Forest University  \n",
       "1085  September 29, 1988          University of Texas at Austin  \n",
       "1383        July 6, 1980                                    NaN  \n",
       "1425       July 28, 1977                                    NaN  \n",
       "1627     August 26, 1989               Arizona State University  \n",
       "1904        June 7, 1975                  Georgetown University  \n",
       "1952   December 30, 1984                                    NaN  \n",
       "2378       June 29, 1991             San Diego State University  \n",
       "2407       July 15, 1990                 Weber State University  \n",
       "2915    February 7, 1974                 Santa Clara University  \n",
       "3107        May 17, 1982                                    NaN  \n",
       "3131         May 6, 1985                 Wake Forest University  \n",
       "3201    October 13, 1977                   University of Kansas  \n",
       "4167    January 17, 1982                   Marquette University  \n",
       "4290   November 12, 1988  University of California, Los Angeles  "
      ]
     },
     "execution_count": 178,
     "metadata": {},
     "output_type": "execute_result"
    }
   ],
   "source": [
    "player_data.head(20)"
   ]
  },
  {
   "cell_type": "code",
   "execution_count": 179,
   "id": "13729696",
   "metadata": {},
   "outputs": [],
   "source": [
    "# We want to extract the age of the player when the game was played"
   ]
  },
  {
   "cell_type": "code",
   "execution_count": 180,
   "id": "55a99f2e",
   "metadata": {},
   "outputs": [],
   "source": [
    "player_data['birth_year'] = player_data['birth_date'].str[-4:]"
   ]
  },
  {
   "cell_type": "code",
   "execution_count": 181,
   "id": "e4df9591",
   "metadata": {},
   "outputs": [
    {
     "data": {
      "text/html": [
       "<div>\n",
       "<style scoped>\n",
       "    .dataframe tbody tr th:only-of-type {\n",
       "        vertical-align: middle;\n",
       "    }\n",
       "\n",
       "    .dataframe tbody tr th {\n",
       "        vertical-align: top;\n",
       "    }\n",
       "\n",
       "    .dataframe thead th {\n",
       "        text-align: right;\n",
       "    }\n",
       "</style>\n",
       "<table border=\"1\" class=\"dataframe\">\n",
       "  <thead>\n",
       "    <tr style=\"text-align: right;\">\n",
       "      <th></th>\n",
       "      <th>name</th>\n",
       "      <th>year_start</th>\n",
       "      <th>year_end</th>\n",
       "      <th>position</th>\n",
       "      <th>height</th>\n",
       "      <th>weight</th>\n",
       "      <th>birth_date</th>\n",
       "      <th>college</th>\n",
       "      <th>birth_year</th>\n",
       "    </tr>\n",
       "  </thead>\n",
       "  <tbody>\n",
       "    <tr>\n",
       "      <th>58</th>\n",
       "      <td>Ray Allen</td>\n",
       "      <td>1997</td>\n",
       "      <td>2014</td>\n",
       "      <td>G</td>\n",
       "      <td>6-5</td>\n",
       "      <td>205.0</td>\n",
       "      <td>July 20, 1975</td>\n",
       "      <td>University of Connecticut</td>\n",
       "      <td>1975</td>\n",
       "    </tr>\n",
       "    <tr>\n",
       "      <th>105</th>\n",
       "      <td>Giannis Antetokounmpo</td>\n",
       "      <td>2014</td>\n",
       "      <td>2018</td>\n",
       "      <td>F-G</td>\n",
       "      <td>6-11</td>\n",
       "      <td>222.0</td>\n",
       "      <td>December 6, 1994</td>\n",
       "      <td>NaN</td>\n",
       "      <td>1994</td>\n",
       "    </tr>\n",
       "    <tr>\n",
       "      <th>528</th>\n",
       "      <td>Kobe Bryant</td>\n",
       "      <td>1997</td>\n",
       "      <td>2016</td>\n",
       "      <td>G-F</td>\n",
       "      <td>6-6</td>\n",
       "      <td>212.0</td>\n",
       "      <td>August 23, 1978</td>\n",
       "      <td>NaN</td>\n",
       "      <td>1978</td>\n",
       "    </tr>\n",
       "    <tr>\n",
       "      <th>868</th>\n",
       "      <td>Stephen Curry</td>\n",
       "      <td>2010</td>\n",
       "      <td>2018</td>\n",
       "      <td>G</td>\n",
       "      <td>6-3</td>\n",
       "      <td>190.0</td>\n",
       "      <td>March 14, 1988</td>\n",
       "      <td>Davidson College</td>\n",
       "      <td>1988</td>\n",
       "    </tr>\n",
       "    <tr>\n",
       "      <th>901</th>\n",
       "      <td>Anthony Davis</td>\n",
       "      <td>2013</td>\n",
       "      <td>2018</td>\n",
       "      <td>F-C</td>\n",
       "      <td>6-10</td>\n",
       "      <td>253.0</td>\n",
       "      <td>March 11, 1993</td>\n",
       "      <td>University of Kentucky</td>\n",
       "      <td>1993</td>\n",
       "    </tr>\n",
       "  </tbody>\n",
       "</table>\n",
       "</div>"
      ],
      "text/plain": [
       "                      name  year_start  year_end position height  weight  \\\n",
       "58               Ray Allen        1997      2014        G    6-5   205.0   \n",
       "105  Giannis Antetokounmpo        2014      2018      F-G   6-11   222.0   \n",
       "528            Kobe Bryant        1997      2016      G-F    6-6   212.0   \n",
       "868          Stephen Curry        2010      2018        G    6-3   190.0   \n",
       "901          Anthony Davis        2013      2018      F-C   6-10   253.0   \n",
       "\n",
       "           birth_date                    college birth_year  \n",
       "58      July 20, 1975  University of Connecticut       1975  \n",
       "105  December 6, 1994                        NaN       1994  \n",
       "528   August 23, 1978                        NaN       1978  \n",
       "868    March 14, 1988           Davidson College       1988  \n",
       "901    March 11, 1993     University of Kentucky       1993  "
      ]
     },
     "execution_count": 181,
     "metadata": {},
     "output_type": "execute_result"
    }
   ],
   "source": [
    "player_data.head(5)"
   ]
  },
  {
   "cell_type": "code",
   "execution_count": 182,
   "id": "0c451b11",
   "metadata": {},
   "outputs": [],
   "source": [
    "data['Year_Game_Date'] = data['Game Date'].astype(str).str[:4]"
   ]
  },
  {
   "cell_type": "code",
   "execution_count": null,
   "id": "308c71e9",
   "metadata": {},
   "outputs": [],
   "source": []
  },
  {
   "cell_type": "code",
   "execution_count": 183,
   "id": "44118779",
   "metadata": {},
   "outputs": [
    {
     "name": "stdout",
     "output_type": "stream",
     "text": [
      "<class 'pandas.core.frame.DataFrame'>\n",
      "Int64Index: 350867 entries, 17033 to 4727908\n",
      "Data columns (total 19 columns):\n",
      " #   Column             Non-Null Count   Dtype \n",
      "---  ------             --------------   ----- \n",
      " 0   Player Name        350867 non-null  object\n",
      " 1   Team Name          350867 non-null  object\n",
      " 2   Period             350867 non-null  int64 \n",
      " 3   Minutes Remaining  350867 non-null  int64 \n",
      " 4   Seconds Remaining  350867 non-null  int64 \n",
      " 5   Action Type        350867 non-null  object\n",
      " 6   Shot Type          350867 non-null  object\n",
      " 7   Shot Zone Basic    350867 non-null  object\n",
      " 8   Shot Zone Area     350867 non-null  object\n",
      " 9   Shot Zone Range    350867 non-null  object\n",
      " 10  Shot Distance      350867 non-null  int64 \n",
      " 11  X Location         350867 non-null  int64 \n",
      " 12  Y Location         350867 non-null  int64 \n",
      " 13  Shot Made Flag     350867 non-null  int64 \n",
      " 14  Game Date          350867 non-null  int64 \n",
      " 15  Home Team          350867 non-null  object\n",
      " 16  Away Team          350867 non-null  object\n",
      " 17  Season Type        350867 non-null  object\n",
      " 18  Year_Game_Date     350867 non-null  object\n",
      "dtypes: int64(8), object(11)\n",
      "memory usage: 53.5+ MB\n"
     ]
    }
   ],
   "source": [
    "data.info()"
   ]
  },
  {
   "cell_type": "code",
   "execution_count": 184,
   "id": "ce86f9c9",
   "metadata": {},
   "outputs": [],
   "source": [
    "data.drop(['Game Date'], axis =1, inplace = True )"
   ]
  },
  {
   "cell_type": "code",
   "execution_count": 185,
   "id": "25476f8e",
   "metadata": {},
   "outputs": [],
   "source": [
    "data.rename(columns = {'Player Name':'Name'}, inplace = True)"
   ]
  },
  {
   "cell_type": "code",
   "execution_count": 186,
   "id": "a541fe67",
   "metadata": {},
   "outputs": [],
   "source": [
    "player_data.rename(columns = {'name':'Name'}, inplace = True)"
   ]
  },
  {
   "cell_type": "code",
   "execution_count": 187,
   "id": "077074bf",
   "metadata": {},
   "outputs": [],
   "source": [
    "# We merge the NBA shoot data with the data specific to the players. "
   ]
  },
  {
   "cell_type": "code",
   "execution_count": 188,
   "id": "efbeb1ea",
   "metadata": {},
   "outputs": [],
   "source": [
    "joint_data = pd.merge(data, player_data, on ='Name', how ='inner')"
   ]
  },
  {
   "cell_type": "code",
   "execution_count": 189,
   "id": "8fd73833",
   "metadata": {},
   "outputs": [
    {
     "name": "stdout",
     "output_type": "stream",
     "text": [
      "<class 'pandas.core.frame.DataFrame'>\n",
      "Int64Index: 350867 entries, 0 to 350866\n",
      "Data columns (total 26 columns):\n",
      " #   Column             Non-Null Count   Dtype  \n",
      "---  ------             --------------   -----  \n",
      " 0   Name               350867 non-null  object \n",
      " 1   Team Name          350867 non-null  object \n",
      " 2   Period             350867 non-null  int64  \n",
      " 3   Minutes Remaining  350867 non-null  int64  \n",
      " 4   Seconds Remaining  350867 non-null  int64  \n",
      " 5   Action Type        350867 non-null  object \n",
      " 6   Shot Type          350867 non-null  object \n",
      " 7   Shot Zone Basic    350867 non-null  object \n",
      " 8   Shot Zone Area     350867 non-null  object \n",
      " 9   Shot Zone Range    350867 non-null  object \n",
      " 10  Shot Distance      350867 non-null  int64  \n",
      " 11  X Location         350867 non-null  int64  \n",
      " 12  Y Location         350867 non-null  int64  \n",
      " 13  Shot Made Flag     350867 non-null  int64  \n",
      " 14  Home Team          350867 non-null  object \n",
      " 15  Away Team          350867 non-null  object \n",
      " 16  Season Type        350867 non-null  object \n",
      " 17  Year_Game_Date     350867 non-null  object \n",
      " 18  year_start         350867 non-null  int64  \n",
      " 19  year_end           350867 non-null  int64  \n",
      " 20  position           350867 non-null  object \n",
      " 21  height             350867 non-null  object \n",
      " 22  weight             350867 non-null  float64\n",
      " 23  birth_date         350867 non-null  object \n",
      " 24  college            234043 non-null  object \n",
      " 25  birth_year         350867 non-null  object \n",
      "dtypes: float64(1), int64(9), object(16)\n",
      "memory usage: 72.3+ MB\n"
     ]
    }
   ],
   "source": [
    "joint_data.info()"
   ]
  },
  {
   "cell_type": "code",
   "execution_count": 190,
   "id": "598d30af",
   "metadata": {},
   "outputs": [
    {
     "data": {
      "text/html": [
       "<div>\n",
       "<style scoped>\n",
       "    .dataframe tbody tr th:only-of-type {\n",
       "        vertical-align: middle;\n",
       "    }\n",
       "\n",
       "    .dataframe tbody tr th {\n",
       "        vertical-align: top;\n",
       "    }\n",
       "\n",
       "    .dataframe thead th {\n",
       "        text-align: right;\n",
       "    }\n",
       "</style>\n",
       "<table border=\"1\" class=\"dataframe\">\n",
       "  <thead>\n",
       "    <tr style=\"text-align: right;\">\n",
       "      <th></th>\n",
       "      <th>Name</th>\n",
       "      <th>Team Name</th>\n",
       "      <th>Period</th>\n",
       "      <th>Minutes Remaining</th>\n",
       "      <th>Seconds Remaining</th>\n",
       "      <th>Action Type</th>\n",
       "      <th>Shot Type</th>\n",
       "      <th>Shot Zone Basic</th>\n",
       "      <th>Shot Zone Area</th>\n",
       "      <th>Shot Zone Range</th>\n",
       "      <th>...</th>\n",
       "      <th>Season Type</th>\n",
       "      <th>Year_Game_Date</th>\n",
       "      <th>year_start</th>\n",
       "      <th>year_end</th>\n",
       "      <th>position</th>\n",
       "      <th>height</th>\n",
       "      <th>weight</th>\n",
       "      <th>birth_date</th>\n",
       "      <th>college</th>\n",
       "      <th>birth_year</th>\n",
       "    </tr>\n",
       "  </thead>\n",
       "  <tbody>\n",
       "    <tr>\n",
       "      <th>0</th>\n",
       "      <td>Tim Duncan</td>\n",
       "      <td>San Antonio Spurs</td>\n",
       "      <td>1</td>\n",
       "      <td>8</td>\n",
       "      <td>47</td>\n",
       "      <td>Jump Shot</td>\n",
       "      <td>2PT Field Goal</td>\n",
       "      <td>Mid-Range</td>\n",
       "      <td>Right Side(R)</td>\n",
       "      <td>16-24 ft.</td>\n",
       "      <td>...</td>\n",
       "      <td>Regular Season</td>\n",
       "      <td>1997</td>\n",
       "      <td>1998</td>\n",
       "      <td>2016</td>\n",
       "      <td>F-C</td>\n",
       "      <td>6-11</td>\n",
       "      <td>250.0</td>\n",
       "      <td>April 25, 1976</td>\n",
       "      <td>Wake Forest University</td>\n",
       "      <td>1976</td>\n",
       "    </tr>\n",
       "    <tr>\n",
       "      <th>1</th>\n",
       "      <td>Tim Duncan</td>\n",
       "      <td>San Antonio Spurs</td>\n",
       "      <td>1</td>\n",
       "      <td>5</td>\n",
       "      <td>11</td>\n",
       "      <td>Layup Shot</td>\n",
       "      <td>2PT Field Goal</td>\n",
       "      <td>Restricted Area</td>\n",
       "      <td>Center(C)</td>\n",
       "      <td>Less Than 8 ft.</td>\n",
       "      <td>...</td>\n",
       "      <td>Regular Season</td>\n",
       "      <td>1997</td>\n",
       "      <td>1998</td>\n",
       "      <td>2016</td>\n",
       "      <td>F-C</td>\n",
       "      <td>6-11</td>\n",
       "      <td>250.0</td>\n",
       "      <td>April 25, 1976</td>\n",
       "      <td>Wake Forest University</td>\n",
       "      <td>1976</td>\n",
       "    </tr>\n",
       "    <tr>\n",
       "      <th>2</th>\n",
       "      <td>Tim Duncan</td>\n",
       "      <td>San Antonio Spurs</td>\n",
       "      <td>1</td>\n",
       "      <td>4</td>\n",
       "      <td>4</td>\n",
       "      <td>Driving Layup Shot</td>\n",
       "      <td>2PT Field Goal</td>\n",
       "      <td>Restricted Area</td>\n",
       "      <td>Center(C)</td>\n",
       "      <td>Less Than 8 ft.</td>\n",
       "      <td>...</td>\n",
       "      <td>Regular Season</td>\n",
       "      <td>1997</td>\n",
       "      <td>1998</td>\n",
       "      <td>2016</td>\n",
       "      <td>F-C</td>\n",
       "      <td>6-11</td>\n",
       "      <td>250.0</td>\n",
       "      <td>April 25, 1976</td>\n",
       "      <td>Wake Forest University</td>\n",
       "      <td>1976</td>\n",
       "    </tr>\n",
       "    <tr>\n",
       "      <th>3</th>\n",
       "      <td>Tim Duncan</td>\n",
       "      <td>San Antonio Spurs</td>\n",
       "      <td>2</td>\n",
       "      <td>3</td>\n",
       "      <td>35</td>\n",
       "      <td>Jump Shot</td>\n",
       "      <td>2PT Field Goal</td>\n",
       "      <td>Mid-Range</td>\n",
       "      <td>Left Side(L)</td>\n",
       "      <td>8-16 ft.</td>\n",
       "      <td>...</td>\n",
       "      <td>Regular Season</td>\n",
       "      <td>1997</td>\n",
       "      <td>1998</td>\n",
       "      <td>2016</td>\n",
       "      <td>F-C</td>\n",
       "      <td>6-11</td>\n",
       "      <td>250.0</td>\n",
       "      <td>April 25, 1976</td>\n",
       "      <td>Wake Forest University</td>\n",
       "      <td>1976</td>\n",
       "    </tr>\n",
       "    <tr>\n",
       "      <th>4</th>\n",
       "      <td>Tim Duncan</td>\n",
       "      <td>San Antonio Spurs</td>\n",
       "      <td>3</td>\n",
       "      <td>10</td>\n",
       "      <td>59</td>\n",
       "      <td>Jump Shot</td>\n",
       "      <td>2PT Field Goal</td>\n",
       "      <td>In The Paint (Non-RA)</td>\n",
       "      <td>Center(C)</td>\n",
       "      <td>Less Than 8 ft.</td>\n",
       "      <td>...</td>\n",
       "      <td>Regular Season</td>\n",
       "      <td>1997</td>\n",
       "      <td>1998</td>\n",
       "      <td>2016</td>\n",
       "      <td>F-C</td>\n",
       "      <td>6-11</td>\n",
       "      <td>250.0</td>\n",
       "      <td>April 25, 1976</td>\n",
       "      <td>Wake Forest University</td>\n",
       "      <td>1976</td>\n",
       "    </tr>\n",
       "  </tbody>\n",
       "</table>\n",
       "<p>5 rows × 26 columns</p>\n",
       "</div>"
      ],
      "text/plain": [
       "         Name          Team Name  Period  Minutes Remaining  \\\n",
       "0  Tim Duncan  San Antonio Spurs       1                  8   \n",
       "1  Tim Duncan  San Antonio Spurs       1                  5   \n",
       "2  Tim Duncan  San Antonio Spurs       1                  4   \n",
       "3  Tim Duncan  San Antonio Spurs       2                  3   \n",
       "4  Tim Duncan  San Antonio Spurs       3                 10   \n",
       "\n",
       "   Seconds Remaining         Action Type       Shot Type  \\\n",
       "0                 47           Jump Shot  2PT Field Goal   \n",
       "1                 11          Layup Shot  2PT Field Goal   \n",
       "2                  4  Driving Layup Shot  2PT Field Goal   \n",
       "3                 35           Jump Shot  2PT Field Goal   \n",
       "4                 59           Jump Shot  2PT Field Goal   \n",
       "\n",
       "         Shot Zone Basic Shot Zone Area  Shot Zone Range  ...     Season Type  \\\n",
       "0              Mid-Range  Right Side(R)        16-24 ft.  ...  Regular Season   \n",
       "1        Restricted Area      Center(C)  Less Than 8 ft.  ...  Regular Season   \n",
       "2        Restricted Area      Center(C)  Less Than 8 ft.  ...  Regular Season   \n",
       "3              Mid-Range   Left Side(L)         8-16 ft.  ...  Regular Season   \n",
       "4  In The Paint (Non-RA)      Center(C)  Less Than 8 ft.  ...  Regular Season   \n",
       "\n",
       "   Year_Game_Date  year_start  year_end position height weight  \\\n",
       "0            1997        1998      2016      F-C   6-11  250.0   \n",
       "1            1997        1998      2016      F-C   6-11  250.0   \n",
       "2            1997        1998      2016      F-C   6-11  250.0   \n",
       "3            1997        1998      2016      F-C   6-11  250.0   \n",
       "4            1997        1998      2016      F-C   6-11  250.0   \n",
       "\n",
       "       birth_date                 college  birth_year  \n",
       "0  April 25, 1976  Wake Forest University        1976  \n",
       "1  April 25, 1976  Wake Forest University        1976  \n",
       "2  April 25, 1976  Wake Forest University        1976  \n",
       "3  April 25, 1976  Wake Forest University        1976  \n",
       "4  April 25, 1976  Wake Forest University        1976  \n",
       "\n",
       "[5 rows x 26 columns]"
      ]
     },
     "execution_count": 190,
     "metadata": {},
     "output_type": "execute_result"
    }
   ],
   "source": [
    "joint_data.head(5)"
   ]
  },
  {
   "cell_type": "code",
   "execution_count": 191,
   "id": "127e0a2a",
   "metadata": {},
   "outputs": [],
   "source": [
    "# what age was the player when the game was played"
   ]
  },
  {
   "cell_type": "code",
   "execution_count": 192,
   "id": "70f37dd4",
   "metadata": {},
   "outputs": [],
   "source": [
    "joint_data['Age_At_Game']=joint_data['Year_Game_Date'].astype(int)-joint_data['birth_year'].astype(int)"
   ]
  },
  {
   "cell_type": "code",
   "execution_count": 193,
   "id": "19ad85d0",
   "metadata": {},
   "outputs": [],
   "source": [
    "# how many years of experience in NBA had the player when the game was played"
   ]
  },
  {
   "cell_type": "code",
   "execution_count": 194,
   "id": "aa5f7786",
   "metadata": {},
   "outputs": [],
   "source": [
    "joint_data['Years_Experience']= joint_data['Year_Game_Date'].astype(int)-joint_data['year_start'].astype(int)"
   ]
  },
  {
   "cell_type": "code",
   "execution_count": 195,
   "id": "0c3f01a7",
   "metadata": {},
   "outputs": [
    {
     "name": "stdout",
     "output_type": "stream",
     "text": [
      "<class 'pandas.core.frame.DataFrame'>\n",
      "Int64Index: 350867 entries, 0 to 350866\n",
      "Data columns (total 28 columns):\n",
      " #   Column             Non-Null Count   Dtype  \n",
      "---  ------             --------------   -----  \n",
      " 0   Name               350867 non-null  object \n",
      " 1   Team Name          350867 non-null  object \n",
      " 2   Period             350867 non-null  int64  \n",
      " 3   Minutes Remaining  350867 non-null  int64  \n",
      " 4   Seconds Remaining  350867 non-null  int64  \n",
      " 5   Action Type        350867 non-null  object \n",
      " 6   Shot Type          350867 non-null  object \n",
      " 7   Shot Zone Basic    350867 non-null  object \n",
      " 8   Shot Zone Area     350867 non-null  object \n",
      " 9   Shot Zone Range    350867 non-null  object \n",
      " 10  Shot Distance      350867 non-null  int64  \n",
      " 11  X Location         350867 non-null  int64  \n",
      " 12  Y Location         350867 non-null  int64  \n",
      " 13  Shot Made Flag     350867 non-null  int64  \n",
      " 14  Home Team          350867 non-null  object \n",
      " 15  Away Team          350867 non-null  object \n",
      " 16  Season Type        350867 non-null  object \n",
      " 17  Year_Game_Date     350867 non-null  object \n",
      " 18  year_start         350867 non-null  int64  \n",
      " 19  year_end           350867 non-null  int64  \n",
      " 20  position           350867 non-null  object \n",
      " 21  height             350867 non-null  object \n",
      " 22  weight             350867 non-null  float64\n",
      " 23  birth_date         350867 non-null  object \n",
      " 24  college            234043 non-null  object \n",
      " 25  birth_year         350867 non-null  object \n",
      " 26  Age_At_Game        350867 non-null  int32  \n",
      " 27  Years_Experience   350867 non-null  int32  \n",
      "dtypes: float64(1), int32(2), int64(9), object(16)\n",
      "memory usage: 75.0+ MB\n"
     ]
    }
   ],
   "source": [
    "joint_data.info()"
   ]
  },
  {
   "cell_type": "code",
   "execution_count": 196,
   "id": "182a13c1",
   "metadata": {},
   "outputs": [
    {
     "data": {
      "text/html": [
       "<div>\n",
       "<style scoped>\n",
       "    .dataframe tbody tr th:only-of-type {\n",
       "        vertical-align: middle;\n",
       "    }\n",
       "\n",
       "    .dataframe tbody tr th {\n",
       "        vertical-align: top;\n",
       "    }\n",
       "\n",
       "    .dataframe thead th {\n",
       "        text-align: right;\n",
       "    }\n",
       "</style>\n",
       "<table border=\"1\" class=\"dataframe\">\n",
       "  <thead>\n",
       "    <tr style=\"text-align: right;\">\n",
       "      <th></th>\n",
       "      <th>Name</th>\n",
       "      <th>Team Name</th>\n",
       "      <th>Period</th>\n",
       "      <th>Minutes Remaining</th>\n",
       "      <th>Seconds Remaining</th>\n",
       "      <th>Action Type</th>\n",
       "      <th>Shot Type</th>\n",
       "      <th>Shot Zone Basic</th>\n",
       "      <th>Shot Zone Area</th>\n",
       "      <th>Shot Zone Range</th>\n",
       "      <th>...</th>\n",
       "      <th>year_start</th>\n",
       "      <th>year_end</th>\n",
       "      <th>position</th>\n",
       "      <th>height</th>\n",
       "      <th>weight</th>\n",
       "      <th>birth_date</th>\n",
       "      <th>college</th>\n",
       "      <th>birth_year</th>\n",
       "      <th>Age_At_Game</th>\n",
       "      <th>Years_Experience</th>\n",
       "    </tr>\n",
       "  </thead>\n",
       "  <tbody>\n",
       "    <tr>\n",
       "      <th>0</th>\n",
       "      <td>Tim Duncan</td>\n",
       "      <td>San Antonio Spurs</td>\n",
       "      <td>1</td>\n",
       "      <td>8</td>\n",
       "      <td>47</td>\n",
       "      <td>Jump Shot</td>\n",
       "      <td>2PT Field Goal</td>\n",
       "      <td>Mid-Range</td>\n",
       "      <td>Right Side(R)</td>\n",
       "      <td>16-24 ft.</td>\n",
       "      <td>...</td>\n",
       "      <td>1998</td>\n",
       "      <td>2016</td>\n",
       "      <td>F-C</td>\n",
       "      <td>6-11</td>\n",
       "      <td>250.0</td>\n",
       "      <td>April 25, 1976</td>\n",
       "      <td>Wake Forest University</td>\n",
       "      <td>1976</td>\n",
       "      <td>21</td>\n",
       "      <td>-1</td>\n",
       "    </tr>\n",
       "    <tr>\n",
       "      <th>1</th>\n",
       "      <td>Tim Duncan</td>\n",
       "      <td>San Antonio Spurs</td>\n",
       "      <td>1</td>\n",
       "      <td>5</td>\n",
       "      <td>11</td>\n",
       "      <td>Layup Shot</td>\n",
       "      <td>2PT Field Goal</td>\n",
       "      <td>Restricted Area</td>\n",
       "      <td>Center(C)</td>\n",
       "      <td>Less Than 8 ft.</td>\n",
       "      <td>...</td>\n",
       "      <td>1998</td>\n",
       "      <td>2016</td>\n",
       "      <td>F-C</td>\n",
       "      <td>6-11</td>\n",
       "      <td>250.0</td>\n",
       "      <td>April 25, 1976</td>\n",
       "      <td>Wake Forest University</td>\n",
       "      <td>1976</td>\n",
       "      <td>21</td>\n",
       "      <td>-1</td>\n",
       "    </tr>\n",
       "    <tr>\n",
       "      <th>2</th>\n",
       "      <td>Tim Duncan</td>\n",
       "      <td>San Antonio Spurs</td>\n",
       "      <td>1</td>\n",
       "      <td>4</td>\n",
       "      <td>4</td>\n",
       "      <td>Driving Layup Shot</td>\n",
       "      <td>2PT Field Goal</td>\n",
       "      <td>Restricted Area</td>\n",
       "      <td>Center(C)</td>\n",
       "      <td>Less Than 8 ft.</td>\n",
       "      <td>...</td>\n",
       "      <td>1998</td>\n",
       "      <td>2016</td>\n",
       "      <td>F-C</td>\n",
       "      <td>6-11</td>\n",
       "      <td>250.0</td>\n",
       "      <td>April 25, 1976</td>\n",
       "      <td>Wake Forest University</td>\n",
       "      <td>1976</td>\n",
       "      <td>21</td>\n",
       "      <td>-1</td>\n",
       "    </tr>\n",
       "    <tr>\n",
       "      <th>3</th>\n",
       "      <td>Tim Duncan</td>\n",
       "      <td>San Antonio Spurs</td>\n",
       "      <td>2</td>\n",
       "      <td>3</td>\n",
       "      <td>35</td>\n",
       "      <td>Jump Shot</td>\n",
       "      <td>2PT Field Goal</td>\n",
       "      <td>Mid-Range</td>\n",
       "      <td>Left Side(L)</td>\n",
       "      <td>8-16 ft.</td>\n",
       "      <td>...</td>\n",
       "      <td>1998</td>\n",
       "      <td>2016</td>\n",
       "      <td>F-C</td>\n",
       "      <td>6-11</td>\n",
       "      <td>250.0</td>\n",
       "      <td>April 25, 1976</td>\n",
       "      <td>Wake Forest University</td>\n",
       "      <td>1976</td>\n",
       "      <td>21</td>\n",
       "      <td>-1</td>\n",
       "    </tr>\n",
       "    <tr>\n",
       "      <th>4</th>\n",
       "      <td>Tim Duncan</td>\n",
       "      <td>San Antonio Spurs</td>\n",
       "      <td>3</td>\n",
       "      <td>10</td>\n",
       "      <td>59</td>\n",
       "      <td>Jump Shot</td>\n",
       "      <td>2PT Field Goal</td>\n",
       "      <td>In The Paint (Non-RA)</td>\n",
       "      <td>Center(C)</td>\n",
       "      <td>Less Than 8 ft.</td>\n",
       "      <td>...</td>\n",
       "      <td>1998</td>\n",
       "      <td>2016</td>\n",
       "      <td>F-C</td>\n",
       "      <td>6-11</td>\n",
       "      <td>250.0</td>\n",
       "      <td>April 25, 1976</td>\n",
       "      <td>Wake Forest University</td>\n",
       "      <td>1976</td>\n",
       "      <td>21</td>\n",
       "      <td>-1</td>\n",
       "    </tr>\n",
       "  </tbody>\n",
       "</table>\n",
       "<p>5 rows × 28 columns</p>\n",
       "</div>"
      ],
      "text/plain": [
       "         Name          Team Name  Period  Minutes Remaining  \\\n",
       "0  Tim Duncan  San Antonio Spurs       1                  8   \n",
       "1  Tim Duncan  San Antonio Spurs       1                  5   \n",
       "2  Tim Duncan  San Antonio Spurs       1                  4   \n",
       "3  Tim Duncan  San Antonio Spurs       2                  3   \n",
       "4  Tim Duncan  San Antonio Spurs       3                 10   \n",
       "\n",
       "   Seconds Remaining         Action Type       Shot Type  \\\n",
       "0                 47           Jump Shot  2PT Field Goal   \n",
       "1                 11          Layup Shot  2PT Field Goal   \n",
       "2                  4  Driving Layup Shot  2PT Field Goal   \n",
       "3                 35           Jump Shot  2PT Field Goal   \n",
       "4                 59           Jump Shot  2PT Field Goal   \n",
       "\n",
       "         Shot Zone Basic Shot Zone Area  Shot Zone Range  ...  year_start  \\\n",
       "0              Mid-Range  Right Side(R)        16-24 ft.  ...        1998   \n",
       "1        Restricted Area      Center(C)  Less Than 8 ft.  ...        1998   \n",
       "2        Restricted Area      Center(C)  Less Than 8 ft.  ...        1998   \n",
       "3              Mid-Range   Left Side(L)         8-16 ft.  ...        1998   \n",
       "4  In The Paint (Non-RA)      Center(C)  Less Than 8 ft.  ...        1998   \n",
       "\n",
       "   year_end  position  height weight      birth_date                 college  \\\n",
       "0      2016       F-C    6-11  250.0  April 25, 1976  Wake Forest University   \n",
       "1      2016       F-C    6-11  250.0  April 25, 1976  Wake Forest University   \n",
       "2      2016       F-C    6-11  250.0  April 25, 1976  Wake Forest University   \n",
       "3      2016       F-C    6-11  250.0  April 25, 1976  Wake Forest University   \n",
       "4      2016       F-C    6-11  250.0  April 25, 1976  Wake Forest University   \n",
       "\n",
       "  birth_year  Age_At_Game  Years_Experience  \n",
       "0       1976           21                -1  \n",
       "1       1976           21                -1  \n",
       "2       1976           21                -1  \n",
       "3       1976           21                -1  \n",
       "4       1976           21                -1  \n",
       "\n",
       "[5 rows x 28 columns]"
      ]
     },
     "execution_count": 196,
     "metadata": {},
     "output_type": "execute_result"
    }
   ],
   "source": [
    "joint_data.head(5)"
   ]
  },
  {
   "cell_type": "code",
   "execution_count": 197,
   "id": "03743043",
   "metadata": {},
   "outputs": [],
   "source": [
    "# We drop a few columns we do not need"
   ]
  },
  {
   "cell_type": "code",
   "execution_count": 198,
   "id": "8901449b",
   "metadata": {},
   "outputs": [],
   "source": [
    "joint_data.drop([ 'Year_Game_Date','year_start', 'year_end', 'birth_date', 'college', 'birth_year'], axis =1, inplace = True )"
   ]
  },
  {
   "cell_type": "code",
   "execution_count": 199,
   "id": "f69fdba7",
   "metadata": {},
   "outputs": [
    {
     "name": "stdout",
     "output_type": "stream",
     "text": [
      "<class 'pandas.core.frame.DataFrame'>\n",
      "Int64Index: 350867 entries, 0 to 350866\n",
      "Data columns (total 22 columns):\n",
      " #   Column             Non-Null Count   Dtype  \n",
      "---  ------             --------------   -----  \n",
      " 0   Name               350867 non-null  object \n",
      " 1   Team Name          350867 non-null  object \n",
      " 2   Period             350867 non-null  int64  \n",
      " 3   Minutes Remaining  350867 non-null  int64  \n",
      " 4   Seconds Remaining  350867 non-null  int64  \n",
      " 5   Action Type        350867 non-null  object \n",
      " 6   Shot Type          350867 non-null  object \n",
      " 7   Shot Zone Basic    350867 non-null  object \n",
      " 8   Shot Zone Area     350867 non-null  object \n",
      " 9   Shot Zone Range    350867 non-null  object \n",
      " 10  Shot Distance      350867 non-null  int64  \n",
      " 11  X Location         350867 non-null  int64  \n",
      " 12  Y Location         350867 non-null  int64  \n",
      " 13  Shot Made Flag     350867 non-null  int64  \n",
      " 14  Home Team          350867 non-null  object \n",
      " 15  Away Team          350867 non-null  object \n",
      " 16  Season Type        350867 non-null  object \n",
      " 17  position           350867 non-null  object \n",
      " 18  height             350867 non-null  object \n",
      " 19  weight             350867 non-null  float64\n",
      " 20  Age_At_Game        350867 non-null  int32  \n",
      " 21  Years_Experience   350867 non-null  int32  \n",
      "dtypes: float64(1), int32(2), int64(7), object(12)\n",
      "memory usage: 58.9+ MB\n"
     ]
    }
   ],
   "source": [
    "joint_data.info()"
   ]
  },
  {
   "cell_type": "code",
   "execution_count": 200,
   "id": "96764758",
   "metadata": {},
   "outputs": [],
   "source": [
    "## We start analysing parameters and variables "
   ]
  },
  {
   "cell_type": "code",
   "execution_count": 201,
   "id": "e81df883",
   "metadata": {},
   "outputs": [],
   "source": [
    "### What are the relevant variables which can influence a shot?\n"
   ]
  },
  {
   "cell_type": "code",
   "execution_count": 202,
   "id": "d434e3e8",
   "metadata": {},
   "outputs": [],
   "source": [
    "total_shots = joint_data.groupby(['Name'])['Shot Made Flag'].sum()"
   ]
  },
  {
   "cell_type": "code",
   "execution_count": 203,
   "id": "80be5d79",
   "metadata": {},
   "outputs": [],
   "source": [
    "PlayerList.sort()"
   ]
  },
  {
   "cell_type": "code",
   "execution_count": 204,
   "id": "a1e48936",
   "metadata": {},
   "outputs": [
    {
     "data": {
      "text/plain": [
       "['Allen Iverson',\n",
       " 'Anthony Davis',\n",
       " 'Chris Paul',\n",
       " 'Damian Lillard',\n",
       " 'Dwyane Wade',\n",
       " 'Giannis Antetokounmpo',\n",
       " 'James Harden',\n",
       " 'Kawhi Leonard',\n",
       " 'Kevin Durant',\n",
       " 'Kobe Bryant',\n",
       " 'LeBron James',\n",
       " 'Manu Ginobili',\n",
       " 'Pau Gasol',\n",
       " 'Paul Pierce',\n",
       " 'Ray Allen',\n",
       " 'Russell Westbrook',\n",
       " 'Stephen Curry',\n",
       " 'Steve Nash',\n",
       " 'Tim Duncan',\n",
       " 'Tony Parker']"
      ]
     },
     "execution_count": 204,
     "metadata": {},
     "output_type": "execute_result"
    }
   ],
   "source": [
    "PlayerList"
   ]
  },
  {
   "cell_type": "code",
   "execution_count": 205,
   "id": "8367d7ed",
   "metadata": {},
   "outputs": [
    {
     "data": {
      "text/plain": [
       "<BarContainer object of 20 artists>"
      ]
     },
     "execution_count": 205,
     "metadata": {},
     "output_type": "execute_result"
    },
    {
     "data": {
      "image/png": "[encoded data removed]",
      "text/plain": [
       "<Figure size 432x288 with 1 Axes>"
      ]
     },
     "metadata": {
      "needs_background": "light"
     },
     "output_type": "display_data"
    }
   ],
   "source": [
    "plt.xticks(rotation='vertical')\n",
    "plt.bar(PlayerList, total_shots)"
   ]
  },
  {
   "cell_type": "code",
   "execution_count": 206,
   "id": "15bfea9e",
   "metadata": {},
   "outputs": [],
   "source": [
    "# Checking if the age of the player has an influence on the "
   ]
  },
  {
   "cell_type": "code",
   "execution_count": 210,
   "id": "e740ea79",
   "metadata": {},
   "outputs": [],
   "source": [
    "total_shots_age = joint_data.groupby(['Age_At_Game'])['Shot Made Flag'].sum()"
   ]
  },
  {
   "cell_type": "code",
   "execution_count": 211,
   "id": "ee1ad377",
   "metadata": {},
   "outputs": [
    {
     "data": {
      "text/plain": [
       "Age_At_Game\n",
       "19      875\n",
       "20     3052\n",
       "21     5904\n",
       "22     9502\n",
       "23    11490\n",
       "24    13208\n",
       "25    13119\n",
       "26    12457\n",
       "27    11755\n",
       "28    13222\n",
       "29    11618\n",
       "30    12066\n",
       "31    10065\n",
       "32     7748\n",
       "33     7071\n",
       "34     6434\n",
       "35     4944\n",
       "36     3887\n",
       "37     2884\n",
       "38     2177\n",
       "39     1146\n",
       "40      392\n",
       "41      123\n",
       "Name: Shot Made Flag, dtype: int64"
      ]
     },
     "execution_count": 211,
     "metadata": {},
     "output_type": "execute_result"
    }
   ],
   "source": [
    "total_shots_age"
   ]
  },
  {
   "cell_type": "code",
   "execution_count": 212,
   "id": "a5ff513a",
   "metadata": {},
   "outputs": [],
   "source": [
    "## l'age ideal pour marquer des points se situe entre 23 et 31 ans!! le facteur age semble une variable importante"
   ]
  },
  {
   "cell_type": "code",
   "execution_count": 221,
   "id": "f1144558",
   "metadata": {},
   "outputs": [
    {
     "data": {
      "text/plain": [
       "[<matplotlib.lines.Line2D at 0x29a0bd6ad00>]"
      ]
     },
     "execution_count": 221,
     "metadata": {},
     "output_type": "execute_result"
    },
    {
     "data": {
      "image/png": "[encoded data removed]",
      "text/plain": [
       "<Figure size 432x288 with 1 Axes>"
      ]
     },
     "metadata": {
      "needs_background": "light"
     },
     "output_type": "display_data"
    }
   ],
   "source": [
    "x_ticks = np.arange(19, 41, 1)\n",
    "plt.xticks(x_ticks)\n",
    "plt.plot(total_shots_age)"
   ]
  },
  {
   "cell_type": "code",
   "execution_count": 222,
   "id": "7f1688d9",
   "metadata": {},
   "outputs": [],
   "source": [
    "total_shots_experience = joint_data.groupby(['Years_Experience'])['Shot Made Flag'].sum()"
   ]
  },
  {
   "cell_type": "code",
   "execution_count": 223,
   "id": "603fa0ae",
   "metadata": {},
   "outputs": [
    {
     "data": {
      "text/plain": [
       "Years_Experience\n",
       "-1      2081\n",
       " 0      7961\n",
       " 1     10487\n",
       " 2     12004\n",
       " 3     13755\n",
       " 4     14077\n",
       " 5     14389\n",
       " 6     12926\n",
       " 7     11493\n",
       " 8     11399\n",
       " 9     10754\n",
       " 10     9646\n",
       " 11     7848\n",
       " 12     6740\n",
       " 13     6240\n",
       " 14     4901\n",
       " 15     4172\n",
       " 16     2628\n",
       " 17     1075\n",
       " 18      335\n",
       " 19      228\n",
       "Name: Shot Made Flag, dtype: int64"
      ]
     },
     "execution_count": 223,
     "metadata": {},
     "output_type": "execute_result"
    }
   ],
   "source": [
    "total_shots_experience"
   ]
  },
  {
   "cell_type": "code",
   "execution_count": null,
   "id": "6fde054c",
   "metadata": {},
   "outputs": [],
   "source": [
    "# Years_Experience in NBA seems also relevant.  We have the more scores when the players have been playing in the NBA between 3 years and 8years..\n"
   ]
  },
  {
   "cell_type": "code",
   "execution_count": null,
   "id": "390411dc",
   "metadata": {},
   "outputs": [],
   "source": [
    "# Does height matter ?"
   ]
  },
  {
   "cell_type": "code",
   "execution_count": 224,
   "id": "4b69218c",
   "metadata": {},
   "outputs": [],
   "source": [
    "total_shots_height = joint_data.groupby(['height'])['Shot Made Flag'].sum()"
   ]
  },
  {
   "cell_type": "code",
   "execution_count": 225,
   "id": "ebaa6e21",
   "metadata": {},
   "outputs": [
    {
     "data": {
      "text/plain": [
       "height\n",
       "6-0     15928\n",
       "6-10     4814\n",
       "6-11    16332\n",
       "6-2      9390\n",
       "6-3     26928\n",
       "6-4      9904\n",
       "6-5     16000\n",
       "6-6     19073\n",
       "6-7     13920\n",
       "6-8     14881\n",
       "6-9      9177\n",
       "7-0      8792\n",
       "Name: Shot Made Flag, dtype: int64"
      ]
     },
     "execution_count": 225,
     "metadata": {},
     "output_type": "execute_result"
    }
   ],
   "source": [
    "total_shots_height"
   ]
  },
  {
   "cell_type": "code",
   "execution_count": null,
   "id": "0ec71ee3",
   "metadata": {},
   "outputs": [],
   "source": [
    "# the height doesnt seem to matter"
   ]
  },
  {
   "cell_type": "code",
   "execution_count": null,
   "id": "4aa3dfc1",
   "metadata": {},
   "outputs": [],
   "source": [
    "# Does weight matter ?"
   ]
  },
  {
   "cell_type": "code",
   "execution_count": 226,
   "id": "efe2305d",
   "metadata": {},
   "outputs": [],
   "source": [
    "total_shots_weight = joint_data.groupby(['weight'])['Shot Made Flag'].sum()"
   ]
  },
  {
   "cell_type": "code",
   "execution_count": 227,
   "id": "0689789a",
   "metadata": {},
   "outputs": [
    {
     "data": {
      "text/plain": [
       "weight\n",
       "165.0     8597\n",
       "175.0     7331\n",
       "185.0     9390\n",
       "190.0     6659\n",
       "195.0    12215\n",
       "200.0     8054\n",
       "205.0    14644\n",
       "212.0    13534\n",
       "220.0    16799\n",
       "222.0     4094\n",
       "230.0     4231\n",
       "235.0     9689\n",
       "240.0     9177\n",
       "250.0    35911\n",
       "253.0     4814\n",
       "Name: Shot Made Flag, dtype: int64"
      ]
     },
     "execution_count": 227,
     "metadata": {},
     "output_type": "execute_result"
    }
   ],
   "source": [
    "total_shots_weight"
   ]
  },
  {
   "cell_type": "code",
   "execution_count": 228,
   "id": "463235e9",
   "metadata": {},
   "outputs": [],
   "source": [
    "# weight doesnt seem to matter either"
   ]
  },
  {
   "cell_type": "code",
   "execution_count": null,
   "id": "fcb02ed2",
   "metadata": {},
   "outputs": [],
   "source": [
    "## what type of action scores the most ?"
   ]
  },
  {
   "cell_type": "code",
   "execution_count": 238,
   "id": "c1aeff53",
   "metadata": {},
   "outputs": [],
   "source": [
    "total_shots_action = joint_data.groupby(['Action Type'])['Shot Made Flag'].sum().sort_values(ascending=False)"
   ]
  },
  {
   "cell_type": "code",
   "execution_count": 240,
   "id": "e624a96b",
   "metadata": {},
   "outputs": [
    {
     "data": {
      "text/plain": [
       "Action Type\n",
       "Jump Shot                         60258\n",
       "Driving Layup Shot                20618\n",
       "Layup Shot                        17260\n",
       "Pullup Jump shot                   9321\n",
       "Running Jump Shot                  4747\n",
       "Dunk Shot                          4525\n",
       "Fadeaway Jump Shot                 4263\n",
       "Step Back Jump shot                3828\n",
       "Turnaround Jump Shot               3399\n",
       "Driving Dunk Shot                  2985\n",
       "Driving Finger Roll Layup Shot     2498\n",
       "Jump Bank Shot                     2490\n",
       "Running Layup Shot                 2163\n",
       "Floating Jump shot                 2123\n",
       "Reverse Layup Shot                 2018\n",
       "Slam Dunk Shot                     2013\n",
       "Alley Oop Dunk Shot                1565\n",
       "Hook Shot                          1495\n",
       "Turnaround Fadeaway shot           1466\n",
       "Tip Shot                           1291\n",
       "Name: Shot Made Flag, dtype: int64"
      ]
     },
     "execution_count": 240,
     "metadata": {},
     "output_type": "execute_result"
    }
   ],
   "source": [
    "total_shots_action.head(20)"
   ]
  },
  {
   "cell_type": "code",
   "execution_count": null,
   "id": "fa56d16b",
   "metadata": {},
   "outputs": [],
   "source": [
    "### Above are the action types giving the most points. This might be relevant in the future"
   ]
  },
  {
   "cell_type": "code",
   "execution_count": 245,
   "id": "53058737",
   "metadata": {},
   "outputs": [],
   "source": [
    "total_shots_season = joint_data.groupby(['Season Type'])['Shot Made Flag'].sum()"
   ]
  },
  {
   "cell_type": "code",
   "execution_count": 244,
   "id": "c1cc51d2",
   "metadata": {},
   "outputs": [
    {
     "data": {
      "text/plain": [
       "Season Type\n",
       "Playoffs          0.460874\n",
       "Regular Season    0.472126\n",
       "Name: Shot Made Flag, dtype: float64"
      ]
     },
     "execution_count": 244,
     "metadata": {},
     "output_type": "execute_result"
    }
   ],
   "source": [
    "total_shots_season"
   ]
  },
  {
   "cell_type": "code",
   "execution_count": 246,
   "id": "a007dcf3",
   "metadata": {},
   "outputs": [],
   "source": [
    "total_shots_season2 = joint_data.groupby(['Season Type'])['Shot Made Flag'].mean()"
   ]
  },
  {
   "cell_type": "code",
   "execution_count": 247,
   "id": "1768465b",
   "metadata": {},
   "outputs": [
    {
     "data": {
      "text/plain": [
       "Season Type\n",
       "Playoffs          0.460874\n",
       "Regular Season    0.472126\n",
       "Name: Shot Made Flag, dtype: float64"
      ]
     },
     "execution_count": 247,
     "metadata": {},
     "output_type": "execute_result"
    }
   ],
   "source": [
    "total_shots_season2"
   ]
  },
  {
   "cell_type": "code",
   "execution_count": 248,
   "id": "76b62ab0",
   "metadata": {},
   "outputs": [],
   "source": [
    "### there doesnt seem to be much difference with season type"
   ]
  },
  {
   "cell_type": "code",
   "execution_count": 254,
   "id": "bee5b1fa",
   "metadata": {},
   "outputs": [],
   "source": [
    "total_shots_distance = joint_data.groupby(['Shot Distance'])['Shot Made Flag'].sum()"
   ]
  },
  {
   "cell_type": "code",
   "execution_count": 255,
   "id": "d686a908",
   "metadata": {},
   "outputs": [
    {
     "data": {
      "text/plain": [
       "Shot Distance\n",
       "0     36888\n",
       "1     18012\n",
       "2      9478\n",
       "3      3514\n",
       "4      3031\n",
       "5      3140\n",
       "6      3274\n",
       "7      3237\n",
       "8      3187\n",
       "9      2873\n",
       "10     2637\n",
       "11     2835\n",
       "12     3069\n",
       "13     3378\n",
       "14     4035\n",
       "15     4596\n",
       "16     5346\n",
       "17     5622\n",
       "18     5493\n",
       "19     4913\n",
       "Name: Shot Made Flag, dtype: int64"
      ]
     },
     "execution_count": 255,
     "metadata": {},
     "output_type": "execute_result"
    }
   ],
   "source": [
    "total_shots_distance.head(20)"
   ]
  },
  {
   "cell_type": "code",
   "execution_count": 256,
   "id": "217085b3",
   "metadata": {},
   "outputs": [],
   "source": [
    "### Obviously the Shot Distance is a huge factor"
   ]
  },
  {
   "cell_type": "code",
   "execution_count": null,
   "id": "0b57cdcf",
   "metadata": {},
   "outputs": [],
   "source": []
  }
 ],
 "metadata": {
  "kernelspec": {
   "display_name": "Python 3 (ipykernel)",
   "language": "python",
   "name": "python3"
  },
  "language_info": {
   "codemirror_mode": {
    "name": "ipython",
    "version": 3
   },
   "file_extension": ".py",
   "mimetype": "text/x-python",
   "name": "python",
   "nbconvert_exporter": "python",
   "pygments_lexer": "ipython3",
   "version": "3.9.7"
  }
 },
 "nbformat": 4,
 "nbformat_minor": 5
}
